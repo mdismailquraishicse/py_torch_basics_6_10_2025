{
 "cells": [
  {
   "cell_type": "markdown",
   "id": "e5b81e7c-ccf2-4293-b07f-fa05539bb44d",
   "metadata": {},
   "source": [
    "# Learn PyTorch"
   ]
  },
  {
   "cell_type": "code",
   "execution_count": 1,
   "id": "12dfad04-e887-4224-84a6-860871c82374",
   "metadata": {},
   "outputs": [
    {
     "name": "stdout",
     "output_type": "stream",
     "text": [
      "Requirement already satisfied: torch in /home/ismail/ismail/myenv/lib/python3.12/site-packages (2.5.1)\n",
      "Requirement already satisfied: torchvision in /home/ismail/ismail/myenv/lib/python3.12/site-packages (0.20.1)\n",
      "Collecting torchaudio\n",
      "  Downloading torchaudio-2.8.0-cp312-cp312-manylinux_2_28_x86_64.whl.metadata (7.2 kB)\n",
      "Requirement already satisfied: filelock in /home/ismail/ismail/myenv/lib/python3.12/site-packages (from torch) (3.17.0)\n",
      "Requirement already satisfied: typing-extensions>=4.8.0 in /home/ismail/ismail/myenv/lib/python3.12/site-packages (from torch) (4.12.2)\n",
      "Requirement already satisfied: networkx in /home/ismail/ismail/myenv/lib/python3.12/site-packages (from torch) (3.4.2)\n",
      "Requirement already satisfied: jinja2 in /home/ismail/ismail/myenv/lib/python3.12/site-packages (from torch) (3.1.4)\n",
      "Requirement already satisfied: fsspec in /home/ismail/ismail/myenv/lib/python3.12/site-packages (from torch) (2024.10.0)\n",
      "Requirement already satisfied: nvidia-cuda-nvrtc-cu12==12.4.127 in /home/ismail/ismail/myenv/lib/python3.12/site-packages (from torch) (12.4.127)\n",
      "Requirement already satisfied: nvidia-cuda-runtime-cu12==12.4.127 in /home/ismail/ismail/myenv/lib/python3.12/site-packages (from torch) (12.4.127)\n",
      "Requirement already satisfied: nvidia-cuda-cupti-cu12==12.4.127 in /home/ismail/ismail/myenv/lib/python3.12/site-packages (from torch) (12.4.127)\n",
      "Requirement already satisfied: nvidia-cudnn-cu12==9.1.0.70 in /home/ismail/ismail/myenv/lib/python3.12/site-packages (from torch) (9.1.0.70)\n",
      "Requirement already satisfied: nvidia-cublas-cu12==12.4.5.8 in /home/ismail/ismail/myenv/lib/python3.12/site-packages (from torch) (12.4.5.8)\n",
      "Requirement already satisfied: nvidia-cufft-cu12==11.2.1.3 in /home/ismail/ismail/myenv/lib/python3.12/site-packages (from torch) (11.2.1.3)\n",
      "Requirement already satisfied: nvidia-curand-cu12==10.3.5.147 in /home/ismail/ismail/myenv/lib/python3.12/site-packages (from torch) (10.3.5.147)\n",
      "Requirement already satisfied: nvidia-cusolver-cu12==11.6.1.9 in /home/ismail/ismail/myenv/lib/python3.12/site-packages (from torch) (11.6.1.9)\n",
      "Requirement already satisfied: nvidia-cusparse-cu12==12.3.1.170 in /home/ismail/ismail/myenv/lib/python3.12/site-packages (from torch) (12.3.1.170)\n",
      "Requirement already satisfied: nvidia-nccl-cu12==2.21.5 in /home/ismail/ismail/myenv/lib/python3.12/site-packages (from torch) (2.21.5)\n",
      "Requirement already satisfied: nvidia-nvtx-cu12==12.4.127 in /home/ismail/ismail/myenv/lib/python3.12/site-packages (from torch) (12.4.127)\n",
      "Requirement already satisfied: nvidia-nvjitlink-cu12==12.4.127 in /home/ismail/ismail/myenv/lib/python3.12/site-packages (from torch) (12.4.127)\n",
      "Requirement already satisfied: triton==3.1.0 in /home/ismail/ismail/myenv/lib/python3.12/site-packages (from torch) (3.1.0)\n",
      "Requirement already satisfied: setuptools in /home/ismail/ismail/myenv/lib/python3.12/site-packages (from torch) (75.6.0)\n",
      "Requirement already satisfied: sympy==1.13.1 in /home/ismail/ismail/myenv/lib/python3.12/site-packages (from torch) (1.13.1)\n",
      "Requirement already satisfied: mpmath<1.4,>=1.1.0 in /home/ismail/ismail/myenv/lib/python3.12/site-packages (from sympy==1.13.1->torch) (1.3.0)\n",
      "Requirement already satisfied: numpy in /home/ismail/ismail/myenv/lib/python3.12/site-packages (from torchvision) (1.26.4)\n",
      "Requirement already satisfied: pillow!=8.3.*,>=5.3.0 in /home/ismail/ismail/myenv/lib/python3.12/site-packages (from torchvision) (10.4.0)\n",
      "INFO: pip is looking at multiple versions of torchaudio to determine which version is compatible with other requirements. This could take a while.\n",
      "  Downloading torchaudio-2.7.1-cp312-cp312-manylinux_2_28_x86_64.whl.metadata (6.6 kB)\n",
      "  Downloading torchaudio-2.7.0-cp312-cp312-manylinux_2_28_x86_64.whl.metadata (6.6 kB)\n",
      "  Downloading torchaudio-2.6.0-cp312-cp312-manylinux1_x86_64.whl.metadata (6.6 kB)\n",
      "  Downloading torchaudio-2.5.1-cp312-cp312-manylinux1_x86_64.whl.metadata (6.4 kB)\n",
      "Requirement already satisfied: MarkupSafe>=2.0 in /home/ismail/ismail/myenv/lib/python3.12/site-packages (from jinja2->torch) (3.0.2)\n",
      "Downloading torchaudio-2.5.1-cp312-cp312-manylinux1_x86_64.whl (3.4 MB)\n",
      "\u001b[2K   \u001b[38;2;114;156;31m━━━━━━━━━━━━━━━━━━━━━━━━━━━━━━━━━━━━━━━━\u001b[0m \u001b[32m3.4/3.4 MB\u001b[0m \u001b[31m3.1 MB/s\u001b[0m eta \u001b[36m0:00:00\u001b[0m[36m0:00:01\u001b[0m[36m0:00:01\u001b[0m:01\u001b[0m\n",
      "Installing collected packages: torchaudio\n",
      "Successfully installed torchaudio-2.5.1\n",
      "Note: you may need to restart the kernel to use updated packages.\n"
     ]
    }
   ],
   "source": [
    "pip install torch torchvision torchaudio"
   ]
  },
  {
   "cell_type": "markdown",
   "id": "0884a96f-27a7-406c-a38a-73221c24ae4e",
   "metadata": {
    "jp-MarkdownHeadingCollapsed": true
   },
   "source": [
    "## Stage 1 : 🔥 Stage 1: PyTorch Tensors (Your First Building Block)"
   ]
  },
  {
   "cell_type": "code",
   "execution_count": 3,
   "id": "0547a226-8392-4d79-970a-aef8ca614327",
   "metadata": {},
   "outputs": [],
   "source": [
    "import torch"
   ]
  },
  {
   "cell_type": "code",
   "execution_count": 4,
   "id": "212a58da-bde5-4f5f-a356-a59463275d78",
   "metadata": {},
   "outputs": [
    {
     "data": {
      "text/plain": [
       "tensor([1, 2, 3])"
      ]
     },
     "execution_count": 4,
     "metadata": {},
     "output_type": "execute_result"
    }
   ],
   "source": [
    "torch.tensor([1,2,3])"
   ]
  },
  {
   "cell_type": "code",
   "execution_count": 6,
   "id": "6f0bf150-6f3d-4354-b70a-df40110881c9",
   "metadata": {},
   "outputs": [
    {
     "data": {
      "text/plain": [
       "tensor([[0.4049, 0.2896, 0.8259],\n",
       "        [0.6740, 0.8465, 0.7263]])"
      ]
     },
     "execution_count": 6,
     "metadata": {},
     "output_type": "execute_result"
    }
   ],
   "source": [
    "torch.rand(2,3)"
   ]
  },
  {
   "cell_type": "code",
   "execution_count": 7,
   "id": "306f76ab-a842-4b0f-9ee7-8a53c62850f0",
   "metadata": {},
   "outputs": [
    {
     "data": {
      "text/plain": [
       "tensor([[0., 0., 0.],\n",
       "        [0., 0., 0.],\n",
       "        [0., 0., 0.]])"
      ]
     },
     "execution_count": 7,
     "metadata": {},
     "output_type": "execute_result"
    }
   ],
   "source": [
    "torch.zeros(3,3)"
   ]
  },
  {
   "cell_type": "code",
   "execution_count": 8,
   "id": "13b98778-5507-489b-b509-93a9ab22d8aa",
   "metadata": {},
   "outputs": [
    {
     "data": {
      "text/plain": [
       "tensor([[1., 1., 1., 1.],\n",
       "        [1., 1., 1., 1.],\n",
       "        [1., 1., 1., 1.]])"
      ]
     },
     "execution_count": 8,
     "metadata": {},
     "output_type": "execute_result"
    }
   ],
   "source": [
    "torch.ones(3,4)"
   ]
  },
  {
   "cell_type": "code",
   "execution_count": 10,
   "id": "bcacd768-9f8d-4096-8995-b38380da15d9",
   "metadata": {},
   "outputs": [
    {
     "data": {
      "text/plain": [
       "tensor([0.0000, 1.2500, 2.5000, 3.7500, 5.0000])"
      ]
     },
     "execution_count": 10,
     "metadata": {},
     "output_type": "execute_result"
    }
   ],
   "source": [
    "torch.linspace(0,5,steps=5)"
   ]
  },
  {
   "cell_type": "code",
   "execution_count": 11,
   "id": "80e92944-e6cf-4e6f-88bf-576ca78013ba",
   "metadata": {},
   "outputs": [
    {
     "data": {
      "text/plain": [
       "tensor([5., 7., 9.])"
      ]
     },
     "execution_count": 11,
     "metadata": {},
     "output_type": "execute_result"
    }
   ],
   "source": [
    "x = torch.tensor([1., 2., 3.])\n",
    "y = torch.tensor([4., 5., 6.])\n",
    "x+y"
   ]
  },
  {
   "cell_type": "code",
   "execution_count": 14,
   "id": "ba499c85-69fd-431b-b286-eaf698da0d32",
   "metadata": {},
   "outputs": [
    {
     "data": {
      "text/plain": [
       "tensor(32.)"
      ]
     },
     "execution_count": 14,
     "metadata": {},
     "output_type": "execute_result"
    }
   ],
   "source": [
    "# matrix multiplication\n",
    "x@y"
   ]
  },
  {
   "cell_type": "code",
   "execution_count": 17,
   "id": "6e00f349-adba-4487-9ad3-36f6698b5fd4",
   "metadata": {},
   "outputs": [
    {
     "data": {
      "text/plain": [
       "tensor([[1.],\n",
       "        [2.],\n",
       "        [3.]])"
      ]
     },
     "execution_count": 17,
     "metadata": {},
     "output_type": "execute_result"
    }
   ],
   "source": [
    "x.reshape(3,1)"
   ]
  },
  {
   "cell_type": "code",
   "execution_count": 18,
   "id": "8aed6da1-c408-44e1-958c-a8aec139f3d9",
   "metadata": {},
   "outputs": [
    {
     "data": {
      "text/plain": [
       "tensor([[1.],\n",
       "        [2.],\n",
       "        [3.]])"
      ]
     },
     "execution_count": 18,
     "metadata": {},
     "output_type": "execute_result"
    }
   ],
   "source": [
    "x.view(3,1)"
   ]
  },
  {
   "cell_type": "code",
   "execution_count": 22,
   "id": "e51ca283-b705-4c7c-9123-4ee67082e2b3",
   "metadata": {},
   "outputs": [
    {
     "data": {
      "text/plain": [
       "tensor([[ 2.,  3.,  4.],\n",
       "        [ 5.,  6.,  7.],\n",
       "        [ 8.,  9., 10.]])"
      ]
     },
     "execution_count": 22,
     "metadata": {},
     "output_type": "execute_result"
    }
   ],
   "source": [
    "# Add a tensor of ones on 3 by 3 tensor\n",
    "tensor_3_by_3 = torch.tensor([\n",
    "    [1,2,3],\n",
    "    [4,5,6],\n",
    "    [7,8,9]\n",
    "])\n",
    "ones = torch.ones(3,3)\n",
    "addition= tensor_3_by_3 + ones\n",
    "addition"
   ]
  },
  {
   "cell_type": "code",
   "execution_count": 26,
   "id": "ec9e9d96-33c6-465e-a7c1-e8555b011557",
   "metadata": {},
   "outputs": [
    {
     "data": {
      "text/plain": [
       "tensor([[ 4.,  6.,  8.],\n",
       "        [10., 12., 14.],\n",
       "        [16., 18., 20.]])"
      ]
     },
     "execution_count": 26,
     "metadata": {},
     "output_type": "execute_result"
    }
   ],
   "source": [
    "# Multiply by 2\n",
    "multiplication_by_2 = addition *2\n",
    "multiplication_by_2"
   ]
  },
  {
   "cell_type": "code",
   "execution_count": 28,
   "id": "1fd1fc01-be2b-487e-b162-a954c8260775",
   "metadata": {},
   "outputs": [
    {
     "data": {
      "text/plain": [
       "tensor([[ 4.,  6.,  8., 10., 12., 14., 16., 18., 20.]])"
      ]
     },
     "execution_count": 28,
     "metadata": {},
     "output_type": "execute_result"
    }
   ],
   "source": [
    "reshape_1_9 = multiplication_by_2.reshape(1,9)\n",
    "reshape_1_9"
   ]
  },
  {
   "cell_type": "markdown",
   "id": "1ebc5e88-a0f4-4a88-85ec-b899da551464",
   "metadata": {},
   "source": [
    "## Stage 2 : Autograde Basics"
   ]
  },
  {
   "cell_type": "code",
   "execution_count": 33,
   "id": "d8c7ea22-5d99-43d0-b17f-f9c3901ff57a",
   "metadata": {},
   "outputs": [
    {
     "data": {
      "text/plain": [
       "tensor(15., grad_fn=<AddBackward0>)"
      ]
     },
     "execution_count": 33,
     "metadata": {},
     "output_type": "execute_result"
    }
   ],
   "source": [
    "x = torch.tensor(2.0, requires_grad=True)\n",
    "y = x**2 + 3*x+5\n",
    "y"
   ]
  },
  {
   "cell_type": "code",
   "execution_count": 34,
   "id": "332e14e4-591c-411f-bad9-42b901a505ec",
   "metadata": {},
   "outputs": [],
   "source": [
    "y.backward()"
   ]
  },
  {
   "cell_type": "code",
   "execution_count": 37,
   "id": "a490e6d4-5926-4e08-afde-ab4530edb610",
   "metadata": {},
   "outputs": [
    {
     "data": {
      "text/plain": [
       "tensor(7.)"
      ]
     },
     "execution_count": 37,
     "metadata": {},
     "output_type": "execute_result"
    }
   ],
   "source": [
    "x.grad"
   ]
  },
  {
   "cell_type": "code",
   "execution_count": 38,
   "id": "81cdd57b-402f-49f8-969e-5bc8c003f58b",
   "metadata": {},
   "outputs": [
    {
     "name": "stdout",
     "output_type": "stream",
     "text": [
      "tensor([2., 4., 6.])\n"
     ]
    }
   ],
   "source": [
    "x = torch.tensor([1.0, 2.0, 3.0], requires_grad=True)\n",
    "y = (x ** 2).sum()   # y = x1^2 + x2^2 + x3^2\n",
    "y.backward()\n",
    "\n",
    "print(x.grad)  # tensor([2., 4., 6.])"
   ]
  },
  {
   "cell_type": "code",
   "execution_count": 40,
   "id": "8d3d000d-72c9-4aae-9ac1-5ef2f8294b38",
   "metadata": {},
   "outputs": [
    {
     "name": "stdout",
     "output_type": "stream",
     "text": [
      "False\n"
     ]
    }
   ],
   "source": [
    "# Stopping gradient\n",
    "x = torch.tensor(3.0, requires_grad=True)\n",
    "y = x ** 2\n",
    "\n",
    "with torch.no_grad():\n",
    "    z = y * 2   # no gradient tracking here\n",
    "\n",
    "print(z.requires_grad)  # False"
   ]
  },
  {
   "cell_type": "code",
   "execution_count": 41,
   "id": "40c52857-8f97-4a8b-8c23-703ba13cdbaa",
   "metadata": {},
   "outputs": [
    {
     "name": "stdout",
     "output_type": "stream",
     "text": [
      "tensor(3.)\n",
      "tensor(3.)\n",
      "tensor(3.)\n"
     ]
    }
   ],
   "source": [
    "# Clear old gradient\n",
    "w = torch.tensor(2.0, requires_grad=True)\n",
    "\n",
    "for i in range(3):\n",
    "    y = w * 3\n",
    "    y.backward()\n",
    "    print(w.grad)  # gradients accumulate!\n",
    "\n",
    "    w.grad.zero_()  # reset gradients"
   ]
  },
  {
   "cell_type": "code",
   "execution_count": 43,
   "id": "1fe477b9-e442-4921-ac0d-5fe0f7fe0968",
   "metadata": {},
   "outputs": [
    {
     "name": "stdout",
     "output_type": "stream",
     "text": [
      "tensor(160.)\n"
     ]
    }
   ],
   "source": [
    "x = torch.tensor(4.0, requires_grad=True)\n",
    "y = 3*x**3 + 2*x**2 + 7\n",
    "y.backward()\n",
    "print(x.grad)"
   ]
  },
  {
   "cell_type": "markdown",
   "id": "634be1a5-ab55-4d9f-a2ff-d4ef0d6b7a44",
   "metadata": {},
   "source": [
    "## 🔥 Stage 3: Neural Networks with nn.Module"
   ]
  },
  {
   "cell_type": "code",
   "execution_count": 47,
   "id": "b7d279e5-2636-47d8-850b-a41fc533a942",
   "metadata": {},
   "outputs": [
    {
     "name": "stdout",
     "output_type": "stream",
     "text": [
      "LinearModel(\n",
      "  (linear): Linear(in_features=1, out_features=1, bias=True)\n",
      ")\n"
     ]
    }
   ],
   "source": [
    "import torch\n",
    "import torch.nn as nn\n",
    "\n",
    "# Define model\n",
    "class LinearModel(nn.Module):\n",
    "    def __init__(self):\n",
    "        super().__init__()\n",
    "        self.linear = nn.Linear(1, 1)  # input size=1, output size=1\n",
    "\n",
    "    def forward(self, x):\n",
    "        return self.linear(x)\n",
    "\n",
    "# Create model\n",
    "model = LinearModel()\n",
    "print(model)"
   ]
  },
  {
   "cell_type": "code",
   "execution_count": 48,
   "id": "461651f2-51f7-4877-8bbe-819030a83f25",
   "metadata": {},
   "outputs": [
    {
     "name": "stdout",
     "output_type": "stream",
     "text": [
      "tensor([[0.0641]], grad_fn=<AddmmBackward0>)\n"
     ]
    }
   ],
   "source": [
    "x = torch.tensor([[2.0]])   # input (batch_size=1, features=1)\n",
    "y_pred = model(x)           # forward pass\n",
    "print(y_pred)"
   ]
  },
  {
   "cell_type": "code",
   "execution_count": 49,
   "id": "1b4e1b12-3b9c-4500-8b88-552534d98c5e",
   "metadata": {},
   "outputs": [],
   "source": [
    "# True data\n",
    "X = torch.tensor([[1.0], [2.0], [3.0], [4.0]])\n",
    "Y = torch.tensor([[3.0], [5.0], [7.0], [9.0]])\n",
    "\n",
    "# Model\n",
    "model = LinearModel()\n",
    "\n",
    "# Loss function (Mean Squared Error)\n",
    "criterion = nn.MSELoss()\n",
    "\n",
    "# Optimizer (Stochastic Gradient Descent)\n",
    "optimizer = torch.optim.SGD(model.parameters(), lr=0.01)"
   ]
  },
  {
   "cell_type": "code",
   "execution_count": 50,
   "id": "e49a981f-085c-45c1-8d23-e7083a19bdbe",
   "metadata": {},
   "outputs": [
    {
     "name": "stdout",
     "output_type": "stream",
     "text": [
      "Epoch 50, Loss: 0.0163\n",
      "Epoch 100, Loss: 0.0121\n",
      "Epoch 150, Loss: 0.0089\n",
      "Epoch 200, Loss: 0.0066\n",
      "Epoch 250, Loss: 0.0049\n",
      "Epoch 300, Loss: 0.0036\n",
      "Epoch 350, Loss: 0.0027\n",
      "Epoch 400, Loss: 0.0020\n",
      "Epoch 450, Loss: 0.0015\n",
      "Epoch 500, Loss: 0.0011\n"
     ]
    }
   ],
   "source": [
    "for epoch in range(500):\n",
    "    # Forward pass\n",
    "    Y_pred = model(X)\n",
    "    loss = criterion(Y_pred, Y)\n",
    "\n",
    "    # Backward pass\n",
    "    optimizer.zero_grad()\n",
    "    loss.backward()\n",
    "    optimizer.step()\n",
    "\n",
    "    if (epoch+1) % 50 == 0:\n",
    "        print(f'Epoch {epoch+1}, Loss: {loss.item():.4f}')"
   ]
  },
  {
   "cell_type": "code",
   "execution_count": 51,
   "id": "ce6ec6c3-0dae-4112-b6ed-7ce7c6ac09a1",
   "metadata": {},
   "outputs": [
    {
     "name": "stdout",
     "output_type": "stream",
     "text": [
      "Prediction for x=5: 11.056589126586914\n"
     ]
    }
   ],
   "source": [
    "x_test = torch.tensor([[5.0]])\n",
    "y_test = model(x_test)\n",
    "print(\"Prediction for x=5:\", y_test.item())"
   ]
  },
  {
   "cell_type": "markdown",
   "id": "08121bcd-492a-4342-aaa6-f586db5b6091",
   "metadata": {},
   "source": [
    "## 🔥 Stage 4: Loss Functions & Optimizers in PyTorch"
   ]
  },
  {
   "cell_type": "code",
   "execution_count": null,
   "id": "7a752112-db7b-484d-9a11-eb3d917f584a",
   "metadata": {},
   "outputs": [],
   "source": []
  }
 ],
 "metadata": {
  "kernelspec": {
   "display_name": "Python 3 (ipykernel)",
   "language": "python",
   "name": "python3"
  },
  "language_info": {
   "codemirror_mode": {
    "name": "ipython",
    "version": 3
   },
   "file_extension": ".py",
   "mimetype": "text/x-python",
   "name": "python",
   "nbconvert_exporter": "python",
   "pygments_lexer": "ipython3",
   "version": "3.12.3"
  }
 },
 "nbformat": 4,
 "nbformat_minor": 5
}
